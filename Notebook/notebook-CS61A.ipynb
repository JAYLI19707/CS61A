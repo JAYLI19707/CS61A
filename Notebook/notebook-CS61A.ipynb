{
 "cells": [
  {
   "cell_type": "markdown",
   "metadata": {},
   "source": [
    "# The lecture 1 in CS61A"
   ]
  },
  {
   "cell_type": "code",
   "execution_count": null,
   "metadata": {},
   "outputs": [],
   "source": [
    "abs(-2) \n",
    "#absolute value"
   ]
  },
  {
   "cell_type": "code",
   "execution_count": null,
   "metadata": {},
   "outputs": [],
   "source": [
    "'go to'+'cs'\n",
    "#character can add each other to be a string by '+'"
   ]
  },
  {
   "cell_type": "markdown",
   "metadata": {},
   "source": [
    "#### ***The slicing syntax [start:stop:step]*** can be broken down into three parts:\n",
    "#####    start: The starting index of the slice.\n",
    "#####    stop: The ending index of the slice.\n",
    "#####    step: The step or stride, which indicates how many elements to skip."
   ]
  },
  {
   "cell_type": "code",
   "execution_count": null,
   "metadata": {},
   "outputs": [],
   "source": [
    "from urllib.request import urlopen\n",
    "shakespeare=urlopen('https://www.composingprograms.com/shakespeare.txt')\n",
    "text = shakespeare.read().decode('utf-8').split()\n",
    "len(text)\n",
    "text[:25]\n",
    "text.count('the')\n",
    "words = set(text)#In Python, a set is a built-in data structure that represents an unordered collection of unique elements.\n",
    "{w[0] for w in words} #For each word w, it extracts the first character using w[0].\n",
    "'CSKJLJ'in words #Checking whether an element is in a set is very fast because sets are implemented using hash tables.\n",
    "len({w[0] for w in words})\n",
    "'draw'[::-1]\n",
    "{w for w in words if w == w[::-1]and len(w)>4}\n",
    "{w for w in words if w[::-1] in words and len(w)>5}"
   ]
  },
  {
   "cell_type": "code",
   "execution_count": null,
   "metadata": {},
   "outputs": [],
   "source": [
    "f = max #function max() can be rename as f\n",
    "f\n",
    "f(5,68,89)"
   ]
  },
  {
   "cell_type": "code",
   "execution_count": null,
   "metadata": {},
   "outputs": [],
   "source": [
    "import math\n",
    "math.pi"
   ]
  },
  {
   "cell_type": "code",
   "execution_count": null,
   "metadata": {},
   "outputs": [],
   "source": [
    "x,y=53,69\n",
    "x,y=y,x#exchange two number immediately\n",
    "print(x,y)"
   ]
  },
  {
   "cell_type": "code",
   "execution_count": null,
   "metadata": {},
   "outputs": [],
   "source": [
    "print(print(1))#the return value of print(1) is none\n",
    "#print function is non-pure function and it can not be used by assignment statement"
   ]
  },
  {
   "cell_type": "code",
   "execution_count": null,
   "metadata": {},
   "outputs": [],
   "source": [
    "def square (k):#define a function\n",
    "    return k*k\n",
    "square(8)"
   ]
  },
  {
   "cell_type": "markdown",
   "metadata": {},
   "source": [
    "# Lab 0 Setup "
   ]
  },
  {
   "cell_type": "markdown",
   "metadata": {},
   "source": [
    "### 1.Some commands in terminal (powershell)"
   ]
  },
  {
   "cell_type": "markdown",
   "metadata": {},
   "source": [
    "##### ls: Listing Directory Contents\n",
    "##### cd directory: Changes the current working directory to the specified directory.\n",
    "##### cd ..: Moves up one directory level (to the parent directory).\n",
    "##### cd /path/to/directory: Changes to the directory specified by the absolute path.\n",
    "##### cd (with no arguments): Changes to the user's home directory.\n",
    "##### cd ~: Also changes to the user's home directory.\n",
    "##### cd -: Switches to the previous working directory."
   ]
  },
  {
   "cell_type": "markdown",
   "metadata": {},
   "source": [
    "### 2.how to make a directory by termianl"
   ]
  },
  {
   "cell_type": "markdown",
   "metadata": {},
   "source": [
    "##### cd Desktop\n",
    "##### mkdir CS61A"
   ]
  },
  {
   "cell_type": "markdown",
   "metadata": {},
   "source": [
    "### 3.how directly to display the current working directory"
   ]
  },
  {
   "cell_type": "markdown",
   "metadata": {},
   "source": [
    "#### pwd(Get-Location)\n",
    "#### pwd means \"print working directory\""
   ]
  },
  {
   "cell_type": "markdown",
   "metadata": {},
   "source": [
    "### 4.how to move the file to another directory"
   ]
  },
  {
   "cell_type": "markdown",
   "metadata": {},
   "source": [
    "##### mv ~\\Desktop\\CS61A\\moving ~\\Downloads"
   ]
  },
  {
   "cell_type": "markdown",
   "metadata": {},
   "source": [
    "### 5.how to back to the main directory"
   ]
  },
  {
   "cell_type": "markdown",
   "metadata": {},
   "source": [
    "#### cd ~"
   ]
  },
  {
   "cell_type": "markdown",
   "metadata": {},
   "source": [
    "# Lecture 2 Function"
   ]
  },
  {
   "cell_type": "code",
   "execution_count": null,
   "metadata": {},
   "outputs": [],
   "source": [
    "1*2*((3*4*5//6)**3)+7+8 \n",
    "# base ** exponent\n",
    "#  // is used for integer division, returning the integer part of the quotient."
   ]
  },
  {
   "cell_type": "code",
   "execution_count": null,
   "metadata": {},
   "outputs": [],
   "source": [
    "import operator\n",
    "operator.mul(2,5)\n",
    "operator.add(2,5)"
   ]
  },
  {
   "cell_type": "code",
   "execution_count": null,
   "metadata": {},
   "outputs": [],
   "source": [
    "from math import pi ,sin\n",
    "pi\n",
    "sin(pi/2)"
   ]
  },
  {
   "cell_type": "code",
   "execution_count": null,
   "metadata": {},
   "outputs": [],
   "source": [
    "def square(x):\n",
    "    return x*x\n",
    "square(5)\n",
    "def sum_square(x,y):\n",
    "    return x*x+y*y\n",
    "sum_square(5,8)\n",
    "radius=50\n",
    "def area():\n",
    "    return pi*radius*radius\n",
    "area()\n",
    "radius=2\n",
    "area()"
   ]
  },
  {
   "cell_type": "code",
   "execution_count": null,
   "metadata": {},
   "outputs": [],
   "source": [
    "f = min\n",
    "f = max\n",
    "g,h = min,max\n",
    "max = g   # max <function min>\n",
    "result=max(f(2,g(h(1,5),3)),4)\n",
    "result\n",
    "# answer = 3"
   ]
  },
  {
   "cell_type": "code",
   "execution_count": null,
   "metadata": {},
   "outputs": [],
   "source": [
    "a=1\n",
    "b=2\n",
    "b,a= a+b,b\n",
    "print(b,a)\n",
    "# 1.Compute all expressions on the right side and temporarily store the results.\n",
    "# 2.Assign the computed values on the right side to the variables on the left side (in left-to-right order)"
   ]
  },
  {
   "cell_type": "code",
   "execution_count": null,
   "metadata": {},
   "outputs": [],
   "source": [
    "x = 10  # Global variable\n",
    "\n",
    "def my_function(y):\n",
    "    z = x + y  # x is global, y and z are local\n",
    "    return z\n",
    "\n",
    "result = my_function(5)\n",
    "print(result)"
   ]
  },
  {
   "cell_type": "code",
   "execution_count": null,
   "metadata": {},
   "outputs": [],
   "source": [
    "def add(a, b):  # a and b are formal parameters\n",
    "    return a + b\n",
    "\n",
    "result = add(2, 3)  # 2 and 3 are actual arguments\n",
    "print(result)  # Output: 5"
   ]
  },
  {
   "cell_type": "markdown",
   "metadata": {},
   "source": [
    "# Lecture 2 Q&A"
   ]
  },
  {
   "cell_type": "markdown",
   "metadata": {},
   "source": [
    "### What is frame?\n",
    "#####   ***global frame***:\n",
    "#####       1.The global frame is the global namespace created when a program starts running, used to store all global variables and function definitions.\n",
    "#####       2.It exists for the entire duration of the program, from start to end.\n",
    "\n",
    "#####   ***local frame***:\n",
    "#####       1.Local Frame is a namespace created during the execution of a function or method, used to store the local variables and parameters of that function or method.\n",
    "#####       2.It exists only during the function execution, and once the function completes, the local frame is destroyed."
   ]
  },
  {
   "cell_type": "code",
   "execution_count": null,
   "metadata": {},
   "outputs": [],
   "source": [
    "print(\"hello number\" + str(5652)) #First Line uses string concatenation to merge two strings without adding any extra spaces.\n",
    "print(\"hello number\",5652) #Second Line uses the print function's ability to handle multiple arguments, automatically adding spaces between them."
   ]
  },
  {
   "cell_type": "code",
   "execution_count": null,
   "metadata": {},
   "outputs": [],
   "source": [
    "x = 10  # Global variable\n",
    "\n",
    "def outer_function():\n",
    "    y = 5  # Local variable of outer_function\n",
    "\n",
    "    def inner_function():\n",
    "        z = 3  # Local variable of inner_function\n",
    "        print(x)  # x is not found in local namespace, so it is looked up in the global namespace\n",
    "        print(y)  # y is not found in local namespace, so it is looked up in the outer_function's local namespace\n",
    "\n",
    "    inner_function()\n",
    "\n",
    "outer_function()\n"
   ]
  },
  {
   "cell_type": "markdown",
   "metadata": {},
   "source": [
    "### Different name:\n",
    "#### A function name appears twice: once in the environment frame and once as part of the function definition. The name that appears in the function definition is called the **intrinsic name**, while the name in the frame is called the **bound name**. There is a distinction between the two: different bound names can refer to the same function, but the function itself has only one intrinsic name."
   ]
  },
  {
   "cell_type": "markdown",
   "metadata": {},
   "source": [
    "# Lecture 3 Control"
   ]
  },
  {
   "cell_type": "code",
   "execution_count": null,
   "metadata": {},
   "outputs": [],
   "source": [
    "'Go Bears'\n",
    "print('Go Bears') #without quotation\n",
    "\n",
    "print(None,None)\n",
    "print(print(1),print(2)) #None represent nothing"
   ]
  },
  {
   "cell_type": "markdown",
   "metadata": {},
   "source": [
    "#### ***Pure function***:\n",
    "##### A pure function is a function in programming that, given the same inputs, always produces the same output and has no side effects.\n",
    "#### ***Non—pure function***:\n",
    "#####  Non-pure function can produce different outputs given the same inputs, or it can alter some state outside its scope. This could involve modifying a global variable, interacting with I/O operations (like reading from or writing to a file), or depending on some external state that can change"
   ]
  },
  {
   "cell_type": "markdown",
   "metadata": {},
   "source": [
    "### ***Def statement*** :(***non-breaking space = &nbsp***)\n",
    "#### Name(Formal parameter):\n",
    "#### &nbsp;&nbsp;&nbsp;&nbsp;&nbsp;&nbsp; return statement"
   ]
  },
  {
   "cell_type": "code",
   "execution_count": null,
   "metadata": {},
   "outputs": [],
   "source": [
    "2023 / 10 #true division \n",
    "2023 // 10 #integer division\n",
    "2023 % 10\n",
    "from operator import truediv,floordiv,mod\n",
    "truediv(2023,10)\n",
    "floordiv(2023,10)\n",
    "mod(2023,10)"
   ]
  },
  {
   "cell_type": "code",
   "execution_count": null,
   "metadata": {},
   "outputs": [],
   "source": [
    "def divide_exact1(n,d):\n",
    "    return n//d,n%d\n",
    "quotient,remainder=divide_exact1(2023,10)\n",
    "print(quotient,remainder)\n",
    "\n",
    "from operator import mod,floordiv\n",
    "def divide_exact2(n,d):\n",
    "    \"\"\"#return quotitent and remainder \n",
    "    q,r=divide_exact2(n,d)\n",
    "    \"\"\"\n",
    "    return mod(n,d),floordiv(n,d)\n",
    "q,r=divide_exact2(2023,10)\n",
    "print(q,r)"
   ]
  },
  {
   "cell_type": "markdown",
   "metadata": {},
   "source": [
    "### Conditional statement\n",
    "#### ***header:***\n",
    "#### &nbsp;&nbsp;&nbsp;&nbsp;statement\n",
    "#### &nbsp;&nbsp;&nbsp;&nbsp;statement\n",
    "#### ***separating hearder:***\n",
    "#### &nbsp;&nbsp;&nbsp;&nbsp;statement\n",
    "#### &nbsp;&nbsp;&nbsp;&nbsp;statement"
   ]
  },
  {
   "cell_type": "code",
   "execution_count": null,
   "metadata": {},
   "outputs": [],
   "source": [
    "def absolute_value(x):\n",
    "    \"\"\"return the absolute value of x \"\"\"\n",
    "    if x<0:\n",
    "        return -x\n",
    "    elif x==0:\n",
    "        return 0\n",
    "    else :\n",
    "        return x\n",
    "#It can have multiple elif but only one else\n",
    "#It considers in order until a \"truthy\" value is reached\n",
    "#If the truthy value is reached ,execute the suite the skip over all the rest of the if-elif-else block"
   ]
  },
  {
   "cell_type": "markdown",
   "metadata": {},
   "source": [
    "### Boolean value\n",
    "#### ***False(Falsey) value***: &nbsp;False,&nbsp;0,&nbsp;' ',&nbsp; None\n",
    "#### ***True(Truthy) value***: &nbsp;&nbsp;Anything else\n",
    "#### **Order of Boolean operations**: not>and>or\n",
    "#### **and**:short-circuits at the first falsey value ,if all values evaluate to a truthy value , the last value is returned\n",
    "#### **or** :short-circuits at the first truthy value,if all values evaluate to a falsey value , the last value is returned"
   ]
  },
  {
   "cell_type": "code",
   "execution_count": null,
   "metadata": {},
   "outputs": [],
   "source": [
    "i,total =0,0\n",
    "while i<3:\n",
    "    i=i+1\n",
    "    total=total+i\n",
    "print(\"i=%d,total=%d\"%(i,total))\n",
    "print(\"i={},total={}\".format(i, total))\n",
    "print(f\"i={i},total={total}\")"
   ]
  },
  {
   "cell_type": "code",
   "execution_count": null,
   "metadata": {},
   "outputs": [],
   "source": [
    "def prime_factors(n):\n",
    "    while n>1:\n",
    "        k=smallest_prime_factor(n)\n",
    "        n=n//k\n",
    "        print(k)\n",
    "def smallest_prime_factor(n):\n",
    "    k=2\n",
    "    while n%k!=0:\n",
    "        k=k+1\n",
    "    return k\n",
    "prime_factors(858)"
   ]
  },
  {
   "cell_type": "markdown",
   "metadata": {},
   "source": [
    "# Lecture 3 Q&A"
   ]
  },
  {
   "cell_type": "code",
   "execution_count": null,
   "metadata": {},
   "outputs": [],
   "source": [
    "x=2\n",
    "def f():\n",
    "    print(x)#When executing print(x), Python attempts to find x in the local scope, but x is not yet assigned, causing an UnboundLocalError.\n",
    "    x=3# Within the scope of function f(), Python determines at compile time that x is a local variable (due to the assignment x = 3).\n",
    "    print(x)\n",
    "f()"
   ]
  },
  {
   "cell_type": "code",
   "execution_count": null,
   "metadata": {},
   "outputs": [],
   "source": [
    "x=2\n",
    "def f(x):#the parameter x is explicitly declared as a local variable within the function definition\n",
    "    print(x)\n",
    "    x=3\n",
    "    print(x)\n",
    "f(x)# Call function f, passing the global variable x as an argument\n"
   ]
  },
  {
   "cell_type": "code",
   "execution_count": null,
   "metadata": {},
   "outputs": [],
   "source": [
    "x = \"global x\"\n",
    "\n",
    "def outer():\n",
    "    x = \"outer x\"\n",
    "\n",
    "    def inner():\n",
    "        x = \"inner x\"\n",
    "        print(x)  \n",
    "    \n",
    "    inner() # This will print \"inner x\"\n",
    "    print(x) # This will print \"outer x\"\n",
    "\n",
    "outer()\n",
    "print(x)  # This will print \"global x\""
   ]
  },
  {
   "cell_type": "code",
   "execution_count": null,
   "metadata": {},
   "outputs": [],
   "source": [
    "#Docstring\n",
    "def greet(name):\n",
    "    \"\"\"\n",
    "    This function greets a person.\n",
    "\n",
    "    Parameters:\n",
    "    name (str): The name of the person to greet.\n",
    "\n",
    "    Returns:\n",
    "    str: A greeting message.\n",
    "    \"\"\"\n",
    "    return f\"Hello, {name}!\"\n",
    "#In this example, the content inside \"\"\"...\"\"\" is a docstring. It describes the function greet, its parameters, and its return value."
   ]
  },
  {
   "cell_type": "code",
   "execution_count": null,
   "metadata": {},
   "outputs": [],
   "source": [
    "#Doctests\n",
    "def add(a, b):\n",
    "    \"\"\"\n",
    "    Returns the sum of two numbers.\n",
    "\n",
    "    Examples:\n",
    "    >>> add(2, 3)\n",
    "    5\n",
    "    >>> add(-1, 1)\n",
    "    0\n",
    "    \"\"\"\n",
    "    return a + b\n",
    "#In this example, >>> add(2, 3) and >>> add(-1, 1) are test cases. 5 and 0 are the expected outputs."
   ]
  },
  {
   "cell_type": "markdown",
   "metadata": {},
   "source": [
    "#### Division:\n",
    "##### Ture division:/\n",
    "##### Floor division://\n",
    "##### Round division:Round(a/b)"
   ]
  },
  {
   "cell_type": "code",
   "execution_count": null,
   "metadata": {},
   "outputs": [],
   "source": [
    "x=3\n",
    "if x>1:\n",
    "    print(\"go\")\n",
    "if x>2:\n",
    "    print(\"bear\")\n",
    "\n",
    "y=3\n",
    "if y>1:\n",
    "    print(\"go\")\n",
    "elif y>2:\n",
    "    print(\"bear\")"
   ]
  },
  {
   "cell_type": "markdown",
   "metadata": {},
   "source": [
    "# Lecture 4 Higher-Order Functions"
   ]
  },
  {
   "cell_type": "code",
   "execution_count": null,
   "metadata": {},
   "outputs": [],
   "source": [
    "def fib(n):\n",
    "    \"\"\"the nth Fibonacci number\"\"\"\n",
    "    pred,curr=1,0\n",
    "    k=0\n",
    "    while k<n:\n",
    "        pred,curr=curr,pred+curr\n",
    "        k=k+1\n",
    "    return curr\n",
    "fib(1)"
   ]
  },
  {
   "cell_type": "markdown",
   "metadata": {},
   "source": [
    "### Guide to design function\n",
    "#### Give each function exactly one job\n",
    "#### Don\"t repeat yourself . Implement a process just once, but execute it many time\n",
    "#### Define function generally"
   ]
  },
  {
   "cell_type": "markdown",
   "metadata": {},
   "source": [
    "### Quotation:\n",
    "#### In Python programming, double quotes (\"\") and single quotes ('') can both be used to denote strings, and they are interchangeable in most cases."
   ]
  },
  {
   "cell_type": "code",
   "execution_count": null,
   "metadata": {},
   "outputs": [],
   "source": [
    "x = 5\n",
    "assert x > 0, \"x must be a positive number\"\n",
    "#assert is primarily for debugging and validating the correctness of code. \n",
    "# It checks whether a given condition is true, and if the condition is false, the program will throw an error and stop execution. "
   ]
  },
  {
   "cell_type": "code",
   "execution_count": null,
   "metadata": {},
   "outputs": [],
   "source": [
    "from math import pi,sqrt\n",
    "def area(r,shape_constant):\n",
    "    assert r>0,'A length must be positive'\n",
    "    return r*r*shape_constant\n",
    "def area_square(r):\n",
    "    return area(r,1)\n",
    "def area_circle(r):\n",
    "    return area(r,pi)\n",
    "def area_hexagon(r):\n",
    "    return area(r,3*sqrt(3)/2)"
   ]
  },
  {
   "cell_type": "code",
   "execution_count": null,
   "metadata": {},
   "outputs": [],
   "source": [
    "#python -m doctest your_script.py\n",
    "def add(a, b):\n",
    "    \"\"\"\n",
    "    返回两个数的和。\n",
    "\n",
    "    >>> add(2, 3)\n",
    "    5\n",
    "    >>> add(-1, 1)\n",
    "    0\n",
    "    \"\"\"\n",
    "    return a + b\n",
    "\n",
    "if __name__ == \"__main__\":\n",
    "    import doctest\n",
    "    doctest.testmod()"
   ]
  },
  {
   "cell_type": "code",
   "execution_count": null,
   "metadata": {},
   "outputs": [],
   "source": [
    "#python3 -m doctest \"document test.py\"\n",
    "def identity(k):\n",
    "    return k\n",
    "def cube(k):\n",
    "    return pow(k,3)\n",
    "def summation(n,term):\n",
    "    \"\"\"Sum the first N terms of a sequence .\n",
    "    >>> summation(5,cube)\n",
    "    225\n",
    "    \"\"\"\n",
    "    total,k=0,1\n",
    "    while k<=n:\n",
    "        total,k=total+term(k),k+1\n",
    "    return total"
   ]
  },
  {
   "cell_type": "code",
   "execution_count": null,
   "metadata": {},
   "outputs": [],
   "source": [
    "def make_adder(n):\n",
    "    def adder(k):\n",
    "        return k+n\n",
    "    return adder"
   ]
  },
  {
   "cell_type": "markdown",
   "metadata": {},
   "source": [
    "### syntax of Doctests Test Passed\n",
    "#### python3 -m doctest -v filename.py\n",
    "\n",
    "#### Usage: python3 -m <module_name>\n",
    "#### &nbsp;&nbsp;&nbsp;&nbsp;&nbsp;&nbsp; &nbsp;&nbsp;&nbsp;&nbsp;&nbsp;&nbsp;Example: python3 -m doctest will run the doctest module\n",
    "\n",
    "#### Usage: python3 -m doctest -v <filename>\n",
    "#### &nbsp;&nbsp;&nbsp;&nbsp;&nbsp;&nbsp; &nbsp;&nbsp;&nbsp;&nbsp;&nbsp;&nbsp;Example: python3 -m doctest -v filename.py will show detailed results of all doctest tests in filename.py."
   ]
  },
  {
   "cell_type": "markdown",
   "metadata": {},
   "source": [
    "### Statement\n",
    "#### A statement is executed by the interpreter to perform an action\n",
    "#### A suite is a sequence of statements\n",
    "#### A clause consists of a header and an indented suite of statement"
   ]
  },
  {
   "cell_type": "code",
   "execution_count": null,
   "metadata": {},
   "outputs": [],
   "source": [
    "def absolute_value(x):\n",
    "    if x <0:\n",
    "        return -x\n",
    "    elif x==0:\n",
    "        return 0\n",
    "    else :\n",
    "        return x\n",
    "#The whole picture is a Statement\n",
    "#The whole if expression is a clause\n",
    "#The return value is a suite\n",
    "#There are: 1 statement \n",
    "#           3 clauses\n",
    "#           3 headers\n",
    "#           3 suites"
   ]
  },
  {
   "cell_type": "markdown",
   "metadata": {},
   "source": [
    "### Def Higer-Order Functions: \n",
    "###  &nbsp;&nbsp;&nbsp;&nbsp;&nbsp;&nbsp;&nbsp;&nbsp;Takes in a function as an input \n",
    "###  &nbsp;&nbsp;&nbsp;&nbsp;&nbsp;&nbsp;&nbsp;&nbsp;Return a function as an output "
   ]
  },
  {
   "cell_type": "markdown",
   "metadata": {},
   "source": [
    "### **First-Class Functions:**\n",
    "### First-Class Functions refer to the concept in programming languages where functions are treated as \"first-class citizens,\" meaning they have the same status and capabilities as other data types like integers, strings, and lists\n",
    "#### Specifically, first-class functions have the following **properties**:\n",
    "#### 1.Can be stored in variables: Functions can be assigned to variables just like any other data type.\n",
    "#### 2.Can be passed as arguments to other functions: Functions can be passed as arguments to another function.\n",
    "#### 3.Can be returned from other functions: Functions can be returned from another function.\n",
    "#### 4.Can be stored in data structures: Functions can be stored in data structures such as lists and dictionaries."
   ]
  },
  {
   "cell_type": "markdown",
   "metadata": {},
   "source": [
    "### **Closure**\n",
    "#### A closure is called a \"closure\" because it captures (closes over) the variables from its defining environment and encloses these variables along with the function in a closed environment. This allows the variables to be accessed and used even after the function has finished executing. This closed environment enables the function to remember and access variables from its scope, even when called outside its defining scope."
   ]
  },
  {
   "cell_type": "code",
   "execution_count": null,
   "metadata": {},
   "outputs": [],
   "source": [
    "def make_adder(x):\n",
    "    def adder(y):\n",
    "        return x+y\n",
    "    return adder\n",
    "T=make_adder(8)(5)\n",
    "print(T)\n",
    "Q=make_adder(5)\n",
    "Q(6)\n",
    "print(Q)\n",
    "print(Q(6))\n",
    "#make_adder.<locals>.adder: This is the full name of the function, including its scope:\n",
    "#make_adder is the name of the function.\n",
    "#<locals> indicates that this function is a local function defined within make_adder.\n",
    "#adder is the name of the local function."
   ]
  },
  {
   "cell_type": "code",
   "execution_count": null,
   "metadata": {},
   "outputs": [],
   "source": [
    "def mul_three(x,y,z):\n",
    "    return x*y*z\n",
    "def f(x):\n",
    "    def g(y):\n",
    "        def h(z):\n",
    "            return x*y*z\n",
    "        return h\n",
    "    return g\n",
    "print(f(1)(5)(8))"
   ]
  },
  {
   "cell_type": "code",
   "execution_count": null,
   "metadata": {},
   "outputs": [],
   "source": [
    "square=lambda x:x*x\n",
    "square(5)\n",
    "print(square(5))"
   ]
  },
  {
   "cell_type": "markdown",
   "metadata": {},
   "source": [
    "# Lecture 4 Q&A"
   ]
  },
  {
   "cell_type": "code",
   "execution_count": null,
   "metadata": {},
   "outputs": [],
   "source": [
    "def search(f):\n",
    "    x=0\n",
    "    while True:\n",
    "        if f(x):\n",
    "            return x\n",
    "        x+=1\n",
    "\n",
    "\n",
    "def inverse_of_f(y):\n",
    "    def is_inverse_of_y(x):\n",
    "        return f(x) == y\n",
    "    return search(is_inverse_of_y)  # Correctly use is_inverse_of_y inside inverse_of_f”|\n",
    "\n",
    "def sqrt(y):\n",
    "    def is_sqrt_of_y(x):\n",
    "        return square(x)==y\n",
    "    return search(is_sqrt_of_y)\n",
    "\n",
    "print(sqrt(256))\n",
    "\n",
    "def inverse(f):\n",
    "    \"\"\"Return a function g(y) that returns x such that f(x) == y\"\"\"\n",
    "    def inverse_of_f(y):\n",
    "        def is_inverse_of_y(x):\n",
    "            return f(x) == y\n",
    "        return search(is_inverse_of_y)  # Correctly use is_inverse_of_y inside inverse_of_f\n",
    "    return inverse_of_f\n",
    "\n",
    "def inverse(f):\n",
    "    def g(y):\n",
    "        return search(lambda x: f(x) == y)\n",
    "    return g\n",
    "\n",
    "def square(x):\n",
    "    return x*x\n",
    "\n",
    "Inverse_of_f=inverse(square)\n",
    "print(Inverse_of_f(16))\n",
    "\n"
   ]
  },
  {
   "cell_type": "code",
   "execution_count": null,
   "metadata": {},
   "outputs": [],
   "source": [
    "def composel(f,g):\n",
    "    return lambda x:f(g(x))\n",
    "h=composel(lambda x: x*x,lambda y:y+1)\n",
    "print(h(12))\n",
    "#12+1=13\n",
    "#13*13=169\n"
   ]
  },
  {
   "cell_type": "code",
   "execution_count": null,
   "metadata": {},
   "outputs": [],
   "source": [
    "def add(x, y):\n",
    "    return x + y\n",
    "\n",
    "# Currying:\n",
    "def make_adder(x):\n",
    "    def adder(y):\n",
    "        return x+y\n",
    "    return adder # It can't be adder(x) to call a function\n",
    "\n",
    "make_adder(1)(2)\n",
    "(make_adder(1))(2)\n",
    "#make_adder(1)(2) and (make_adder(1))(2) are equivalent in Python."
   ]
  },
  {
   "cell_type": "code",
   "execution_count": null,
   "metadata": {},
   "outputs": [],
   "source": [
    "def make_adder(x):\n",
    "    def adder(y):\n",
    "        return x+y\n",
    "    return adder(x)\n",
    "\n",
    "print(make_adder(2))#It has only one parameter"
   ]
  },
  {
   "cell_type": "code",
   "execution_count": null,
   "metadata": {},
   "outputs": [],
   "source": [
    "pred,curr=0,1\n",
    "pred,curr=curr,pred+curr\n",
    "print(pred,curr)\n",
    "pred,curr=curr,pred+curr\n",
    "print(pred,curr)\n",
    "pred,curr=curr,pred+curr\n",
    "print(pred,curr)\n",
    "#All the numbers in the right side are calculated then assgin to the left side"
   ]
  },
  {
   "cell_type": "code",
   "execution_count": null,
   "metadata": {},
   "outputs": [],
   "source": [
    "f=lambda x: x+2\n",
    "# You must give a name to the lambda function\n",
    "f(5)\n",
    "# lambda x: x+1 -> it means that a function that take x and return x+1\n",
    "\n",
    "def f(y):\n",
    "    return y+1\n",
    "g=lambda x:f\n",
    "print(g(2)(7))\n",
    "#The g(2) is the parameter x and it take up g(2) then return g(7) as a return value\n",
    "#The statement is equal to g = lambda x:lambda y:y=1"
   ]
  },
  {
   "cell_type": "code",
   "execution_count": null,
   "metadata": {},
   "outputs": [],
   "source": [
    "def my_decorator(func):\n",
    "    def wrapper():\n",
    "        print(\"Before calling the function\")\n",
    "        func()\n",
    "        print(\"After calling the function\")\n",
    "    return wrapper\n",
    "\n",
    "@my_decorator\n",
    "def say_hello():\n",
    "    print(\"Hello!\")\n",
    "\n",
    "say_hello()\n",
    "\n",
    "#Apply the Decorator: The @my_decorator syntax applies the decorator to the say_hello function, equivalent to say_hello = my_decorator(say_hello)."
   ]
  },
  {
   "cell_type": "markdown",
   "metadata": {},
   "source": [
    "# Lecture 5 Environment"
   ]
  },
  {
   "cell_type": "code",
   "execution_count": null,
   "metadata": {},
   "outputs": [],
   "source": [
    "def print_all(x):# self--Reference\n",
    "    print(x)\n",
    "    return print_all\n",
    "\n",
    "print_all(1)(3)(5)\n",
    "\n",
    "def print_sums(x):\n",
    "    print(x)\n",
    "    def next_sum(y):\n",
    "        return print_sums(x+y)\n",
    "    return next_sum\n",
    "\n",
    "print_sums(1)(3)(5)"
   ]
  },
  {
   "cell_type": "code",
   "execution_count": null,
   "metadata": {},
   "outputs": [],
   "source": [
    "#The usage of Lambda expression:\n",
    "\n",
    "#Assigning to a Variable:\n",
    "add = lambda x, y: x + y\n",
    "print(add(2, 3))\n",
    "\n",
    "\n",
    "# Passing as a Function Argument:\n",
    "numbers = [1, 2, 3, 4]\n",
    "squared_numbers = map(lambda x: x**2, numbers)\n",
    "print(list(squared_numbers))  # Output: [1, 4, 9, 16]"
   ]
  },
  {
   "cell_type": "code",
   "execution_count": null,
   "metadata": {},
   "outputs": [],
   "source": [
    "#Lambda Expression\n",
    "negate=lambda f,x:-f(x)\n",
    "negate(lambda x:x*x,3)\n",
    "print(negate(lambda x:x*x,3))"
   ]
  },
  {
   "cell_type": "code",
   "execution_count": null,
   "metadata": {},
   "outputs": [],
   "source": [
    "def outer(x):\n",
    "    def inner(y):\n",
    "        return x + y\n",
    "    return inner\n",
    "#Currying a function that takes multiple arguments into a chain of functions that each take a single argument.\n",
    "\n",
    "    "
   ]
  },
  {
   "cell_type": "markdown",
   "metadata": {},
   "source": [
    "### Local Names:\n",
    "#### 1.Local names are only visible within the code block or function where they are defined.\n",
    "#### 2.If a local variable is defined with the same name as a global variable, the local variable will shadow (i.e., override) the global variable within the local scope. This means that within the local scope, the global variable is inaccessible."
   ]
  },
  {
   "cell_type": "code",
   "execution_count": null,
   "metadata": {},
   "outputs": [],
   "source": [
    "x = 5  # Global variable\n",
    "\n",
    "def my_function():\n",
    "    x = 10  # Local variable, shadows the global variable 'x'\n",
    "    print(x)  # Outputs 10\n",
    "\n",
    "my_function()\n",
    "print(x)  # Outputs 5, the global variable 'x' is unchanged outside the function\n"
   ]
  },
  {
   "cell_type": "code",
   "execution_count": null,
   "metadata": {},
   "outputs": [],
   "source": [
    "#Higher-Order Function\n",
    "def apply_function(func, value):\n",
    "    \"\"\"This is a higher-order function because it takes another function as an argument.\"\"\"\n",
    "    return func(value)\n",
    "\n",
    "def square(x):\n",
    "    return x * x\n",
    "\n",
    "result = apply_function(square, 5)\n",
    "print(result)  # Output: 25\n",
    "\n",
    "#Nested definition\n",
    "\n",
    "def make_adder(n):\n",
    "    def adder(k):\n",
    "        return k+n\n",
    "    return adder"
   ]
  },
  {
   "cell_type": "markdown",
   "metadata": {},
   "source": [
    "# Lecture 6 Design(delete in 2024)"
   ]
  },
  {
   "cell_type": "markdown",
   "metadata": {},
   "source": [
    "### Which value deserve a Name\n",
    "#### 1.The repeated compound expression:\n",
    "#### 2.Meaningful parts of complex expressions:\n",
    "#### 3.n,k,i--integers;x,y,z--real numbers;f,g,h--function;"
   ]
  },
  {
   "cell_type": "markdown",
   "metadata": {},
   "source": [
    "# Lecture 8 Recursion"
   ]
  },
  {
   "cell_type": "markdown",
   "metadata": {},
   "source": [
    "### **% (Modulo)**: This operator is used to obtain the last digit of a number. For example, x % 10 gives you the last digit of x.\n",
    "\n",
    "### **// (Integer Division)**: This operator is used to remove the last digit of a number and return the remaining digits."
   ]
  },
  {
   "cell_type": "code",
   "execution_count": null,
   "metadata": {},
   "outputs": [],
   "source": [
    "def split(n):\n",
    "    return n//10,n%10\n",
    "\n",
    "def sum_digit(n):\n",
    "    if n<10:\n",
    "        return n\n",
    "    else:\n",
    "        all_but_last,last=split(n)\n",
    "        return sum_digit(all_but_last)+last\n",
    "print(sum_digit(2013))"
   ]
  },
  {
   "cell_type": "code",
   "execution_count": null,
   "metadata": {},
   "outputs": [],
   "source": [
    "def fact(n):\n",
    "    if n==0:\n",
    "        return 1\n",
    "    else:\n",
    "        return n*fact(n-1)\n",
    "print(fact(10))"
   ]
  },
  {
   "cell_type": "markdown",
   "metadata": {},
   "source": [
    "### Math:\n",
    "### Recursion in factorial and Iteration in factorial\n",
    "\n",
    "#### 1.n!=n*(n-1)*(n-2)*.....3*（2）*（1）\n",
    "\n",
    "#### 2. n! =  &nbsp;&nbsp; 1 if n=1;\n",
    "#### &nbsp;&nbsp; &nbsp;&nbsp; &nbsp;&nbsp; &nbsp;&nbsp;     n*(n-1) otherwise\n"
   ]
  },
  {
   "cell_type": "code",
   "execution_count": null,
   "metadata": {},
   "outputs": [],
   "source": [
    "#Luhn algorithm:\n",
    "#mutual Recursion\n",
    "def luhn_sum(n):\n",
    "    if n <10:\n",
    "        return n\n",
    "    else:\n",
    "        all_but_last,last=split(n)\n",
    "        return luhn_sum_double(all_but_last)+last\n",
    "def luhn_sum_double(n):\n",
    "    all_but_last,last=split(n)\n",
    "    luhn_digit=sum_digit(2*last)\n",
    "    if n<10:\n",
    "        return luhn_digit\n",
    "    else:\n",
    "        return luhn_sum(all_but_last)+luhn_digit\n",
    "    \n",
    "print(luhn_sum(125))"
   ]
  },
  {
   "cell_type": "markdown",
   "metadata": {},
   "source": [
    "### General **Structure** of Recursive Functions:\n",
    "#### 1.Base case 2.Recursive call: 3.Recombination\n",
    "#### Recursive solutions require you to break an input into subproblems with smaller input"
   ]
  },
  {
   "cell_type": "markdown",
   "metadata": {},
   "source": [
    "### Is fact_recursive **implemented correctly**?\n",
    "#### 1.Verify the base case\n",
    "#### 2.Treat fact_recursive as a functional abstraction\n",
    "#### 3.Assume fact_recursive(n-1) is correct\n",
    "#### 4.Verify that fact_recursive(n) is correct\n",
    "#### 5.Don’t trace the function call all the way to the base case"
   ]
  },
  {
   "cell_type": "markdown",
   "metadata": {},
   "source": [
    "### **Arms-length recursion** occurs when we \"reach\" into the next level of recursion doing work that should be done by the next recursive call(s)\n",
    "#### Violates The Recursive Leap of Faith\n",
    "#### Is redundant, complicates code, and makes a recursive function more difficult to verify"
   ]
  },
  {
   "cell_type": "markdown",
   "metadata": {},
   "source": [
    "# Lecture 8 Q&A"
   ]
  },
  {
   "cell_type": "code",
   "execution_count": null,
   "metadata": {},
   "outputs": [],
   "source": [
    "def cascade(n):\n",
    "    if n <10:\n",
    "        print(n)\n",
    "    else:\n",
    "        print(n)\n",
    "        cascade(n//10)\n",
    "        print(n)\n",
    "cascade(321)"
   ]
  },
  {
   "cell_type": "markdown",
   "metadata": {},
   "source": [
    "### And and or operators return the last value they evaluate, **not just True or False**\n",
    "#### When using the and operator, if the first operand is false, the overall expression is immediately known to be false, so the subsequent operands are not evaluated.\n",
    "#### When using the or operator, if the first operand is true, the overall expression is immediately known to be true, so the subsequent operands are not evaluated. \n",
    "#### And and or operators do not always return True or False. Instead, they return **the last value they evaluate**, which may not necessarily be a boolean"
   ]
  },
  {
   "cell_type": "markdown",
   "metadata": {},
   "source": [
    "# Lecture 9 Tree Recursion"
   ]
  },
  {
   "cell_type": "code",
   "execution_count": null,
   "metadata": {},
   "outputs": [],
   "source": [
    "def fib(n):\n",
    "    if n==1:\n",
    "        return 0\n",
    "    if n==2:\n",
    "        return 1\n",
    "    else:\n",
    "        return fib(n-2)+fib(n-1)"
   ]
  },
  {
   "cell_type": "code",
   "execution_count": null,
   "metadata": {},
   "outputs": [],
   "source": [
    "def count_partitions(n,m):\n",
    "    if n==0:\n",
    "        return 1\n",
    "    elif n<0:\n",
    "        return 0\n",
    "    elif m==0:\n",
    "        return 0\n",
    "    else:\n",
    "        return count_partitions(n-m,m)+count_partitions(n,m-1)"
   ]
  },
  {
   "cell_type": "code",
   "execution_count": null,
   "metadata": {},
   "outputs": [],
   "source": [
    "def inversee_cascade(n):\n",
    "    grow(n)\n",
    "    print(n)\n",
    "    shrink(n)\n",
    "\n",
    "def f_then_g(f,g,n):\n",
    "    if n:\n",
    "        f(n)\n",
    "        g(n)\n",
    "\n",
    "grow=lambda n: f_then_g(grow,print,n//10)\n",
    "shrink=lambda n: f_then_g(print,shrink,n//10)"
   ]
  },
  {
   "cell_type": "markdown",
   "metadata": {},
   "source": [
    "# Lecture 10 Containers"
   ]
  },
  {
   "cell_type": "code",
   "execution_count": null,
   "metadata": {},
   "outputs": [],
   "source": [
    "# range in Python 3 does not produce a list; it produces a range object, which is a lazy sequence that generates elements as needed.\n",
    "# Using range is memory-efficient, particularly for large sequences, because it doesn’t store all elements in memory at once.\n",
    "r =range(3,10)\n",
    "\n",
    "#You can use list() to convert a range object to a list if you need all elements immediately available.\n",
    "list(r)\n",
    "type(list(r))\n",
    "\n",
    "y= range(5)\n",
    "print(y)"
   ]
  },
  {
   "cell_type": "code",
   "execution_count": null,
   "metadata": {},
   "outputs": [],
   "source": [
    "s=[2,3,8]\n",
    "2 in s\n",
    "len(s)"
   ]
  },
  {
   "cell_type": "code",
   "execution_count": null,
   "metadata": {},
   "outputs": [],
   "source": [
    "#Box and pointer notation\n",
    "omg=[1,[2,['true','hello']],[3,lambda x:2*x]]\n",
    "omg[2][1](4)"
   ]
  },
  {
   "cell_type": "code",
   "execution_count": null,
   "metadata": {},
   "outputs": [],
   "source": [
    "# for loop statement\n",
    "def count(s,value):\n",
    "    total =0\n",
    "    for element in s:\n",
    "        if element == value :\n",
    "            total +=1\n",
    "    return total"
   ]
  },
  {
   "cell_type": "code",
   "execution_count": null,
   "metadata": {},
   "outputs": [],
   "source": [
    "odds = [1,3,5,7,9]\n",
    "[x+1 for x in odds]\n",
    "[x+1 for x in odds if 25 %x==0]"
   ]
  },
  {
   "cell_type": "markdown",
   "metadata": {},
   "source": [
    "### Sequence as a Data Structure\n",
    "#### 1.List: A mutable, ordered collection of elements\n",
    "#### 2.Tuple: An immutable, ordered collection of elements.\n",
    "#### 3.String: An immutable sequence of characters."
   ]
  },
  {
   "cell_type": "code",
   "execution_count": null,
   "metadata": {},
   "outputs": [],
   "source": [
    "def reverse(s):\n",
    "    if len(s)==1:\n",
    "        return s\n",
    "    else :\n",
    "        return reverse(s[1:])+s[0]"
   ]
  },
  {
   "cell_type": "code",
   "execution_count": null,
   "metadata": {},
   "outputs": [],
   "source": [
    "# element and subsequence\n",
    "s=\"hello\"\n",
    "s[1]\n",
    "s[1:3]\n",
    "t=[5,6,7,8]\n",
    "t[1]\n",
    "#slice\n",
    "t[1:3]\n",
    "t[1:]\n",
    "t[:3]"
   ]
  },
  {
   "cell_type": "code",
   "execution_count": null,
   "metadata": {},
   "outputs": [],
   "source": [
    "def index_evens(s):\n",
    "    ans=[]\n",
    "    for i in range(len(s)):\n",
    "        if s[i]%2==0:\n",
    "            ans = ans+[i]\n",
    "    return ans\n",
    "\n",
    "print(index_evens([2,68,897,9,87,4,1]))\n",
    "\n",
    "def index_evens2(s):\n",
    "    return [i for i in range (len(s)) if s[i]%2==0]"
   ]
  },
  {
   "cell_type": "markdown",
   "metadata": {},
   "source": [
    "### We can index into a String to get an individual character\n",
    "#### However, each element of a string is also a string—it’s just a string of length 1."
   ]
  },
  {
   "cell_type": "code",
   "execution_count": null,
   "metadata": {},
   "outputs": [],
   "source": [
    "s = \"hello\"\n",
    "print(s[0])  # output: 'h'\n",
    "print(type(s[0]))  # output: <class 'str'>\n",
    "\n",
    "numbers = [1, 2, 3, 4]\n",
    "print(numbers[0])  # output: 1\n",
    "print(type(numbers[0]))  # output: <class 'int'>\n"
   ]
  },
  {
   "cell_type": "code",
   "execution_count": null,
   "metadata": {},
   "outputs": [],
   "source": [
    "s=\"snappe\"\n",
    "\"sapp\" in s"
   ]
  },
  {
   "cell_type": "code",
   "execution_count": null,
   "metadata": {},
   "outputs": [],
   "source": [
    "# Create an empty dictionary\n",
    "my_dict = {}\n",
    "\n",
    "# Create a dictionary with initial key-value pairs\n",
    "my_dict['a']=1\n",
    "my_dict['b']=2\n",
    "\n",
    "len(my_dict)\n",
    "\n",
    "del my_dict['b']\n",
    "\n",
    "len(my_dict)"
   ]
  },
  {
   "cell_type": "markdown",
   "metadata": {},
   "source": [
    "# Lecture 11 Data abstraction"
   ]
  },
  {
   "cell_type": "code",
   "execution_count": null,
   "metadata": {},
   "outputs": [],
   "source": [
    "pair =[1,2]\n",
    "x,y=pair\n",
    "x\n",
    "from operator import getitem\n",
    "getitem(pair,1)"
   ]
  },
  {
   "cell_type": "code",
   "execution_count": null,
   "metadata": {},
   "outputs": [],
   "source": [
    "from math import gcd\n",
    "def rational(n,d):\n",
    "    g = gcd (n,d)\n",
    "    return [n//g,d//g]"
   ]
  },
  {
   "cell_type": "code",
   "execution_count": null,
   "metadata": {},
   "outputs": [],
   "source": [
    "def rational(n,d):\n",
    "    def select(name):\n",
    "        if name == 'n':\n",
    "            return n\n",
    "        elif name =='d':\n",
    "            return d\n",
    "    return select\n",
    "\n",
    "def numer(x):\n",
    "    return x('n')\n",
    "\n",
    "def denom(x):\n",
    "    return x('d')\n",
    "\n",
    "# x is a function, which is actually the select function.\n",
    "#'m' is the argument passed to x. In your example, 'm' doesn't have any special meaning because the select function only handles 'n' and 'd'"
   ]
  },
  {
   "cell_type": "markdown",
   "metadata": {},
   "source": [
    "# Lecture 12 Trees"
   ]
  },
  {
   "cell_type": "markdown",
   "metadata": {},
   "source": [
    "###  **map expression** for **name** in **sequence expression**  if **filter expression**\n",
    "#### To evaluate a list comprehension in Python, the interpreter first executes the `<sequence expression>`, which must return an iterable value. \n",
    "####  Then, each element is sequentially bound to `<name>`, and the `<filter expression>` is executed. \n",
    "#### If the result of the `<filter expression>` is true, the `<map expression>` is evaluated.\n",
    "#### The result of the `<map expression>` is then collected into the resulting list."
   ]
  },
  {
   "cell_type": "code",
   "execution_count": null,
   "metadata": {},
   "outputs": [],
   "source": [
    "sum([3,4,5])\n",
    "sum([[3],[4,5]],[])"
   ]
  },
  {
   "cell_type": "markdown",
   "metadata": {},
   "source": [
    "### **Literal**\" refers to a notation for representing a fixed value directly in the code\n",
    "####  1.Integer literal: 42 is an integer literal.\n",
    "####  2.Floating-point literal: 3.14 is a floating-point literal.\n",
    "####  3.String literal: \"Hello, World!\" is a string literal.\n",
    "####  4.Boolean literal: True and False are boolean literals.\n",
    "####  5.List literal: [1, 2, 3] is a list litera"
   ]
  },
  {
   "cell_type": "code",
   "execution_count": null,
   "metadata": {},
   "outputs": [],
   "source": [
    "# A tree has a root label and a list of branches\n",
    "# Each branch is a tree\n",
    "\n",
    "def tree (label,branches=[]):\n",
    "    for branch in branches:\n",
    "        assert is_tree(branch)\n",
    "    return [label]+list(branches)\n",
    "\n",
    "def label(tree):\n",
    "    return tree[0]\n",
    "\n",
    "def branches(tree):\n",
    "    return tree[1:]\n",
    "\n",
    "def is_tree(tree):\n",
    "    if type(tree)!=list or len(tree)<1:\n",
    "        return False\n",
    "    for branch in branches(tree):\n",
    "        if not is_tree(branch):\n",
    "            return False\n",
    "    return True\n",
    "\n",
    "def fib_tree(n):\n",
    "    if n<=1:\n",
    "        return tree(n)\n",
    "    else:\n",
    "        left,right = fib_tree(n-2),fib_tree(n-1)\n",
    "        return tree(label(left)+label(right),[left,right])\n",
    "    \n",
    "def count_leaves(t):\n",
    "    if is_leaf(t):\n",
    "        return 1\n",
    "    else:\n",
    "        return   sum([count_leaves(b) for b in branches(t)])\n",
    "\n",
    "def is_leaf(tree):\n",
    "    return not branches(tree)\n",
    "\n",
    "t = tree(3, [tree(1), tree(2, [tree(1), tree(1)])])\n",
    "'''[3, [1], [2, [1], [1]]]'''\n",
    "label(t)\n",
    "'''3'''\n",
    "branches(t)\n",
    "'''[[1], [2, [1], [1]]]'''\n",
    "label(branches(t)[1])\n",
    "'''2'''\n",
    "is_leaf(t)\n",
    "'''False'''\n",
    "is_leaf(branches(t)[0])\n",
    "'''True'''\n"
   ]
  },
  {
   "cell_type": "markdown",
   "metadata": {},
   "source": [
    "### Aggregate\" generally refers to the process of combining multiple values or elements into a single value or data structure. \n",
    "#### Aggregate Functions: These are functions that perform a calculation on a set of values and return a single value. \n",
    "#### Examples include sum() (sum), min() (minimum), max() (maximum), and len() (length).\n",
    "#### Data Structures: Aggregates can also refer to data structures that group multiple elements together, such as lists, tuples, dictionaries, and sets.\n",
    "#### Operations: Aggregation operations can process and collect elements from a sequence, such as list comprehensions or generator expressions."
   ]
  },
  {
   "cell_type": "markdown",
   "metadata": {},
   "source": [
    "# Mutable Value\n",
    " "
   ]
  },
  {
   "cell_type": "markdown",
   "metadata": {},
   "source": [
    "### **Lists**:\n",
    "#### Mutable: Lists can contain tuples or dictionaries. You can modify the list itself, such as adding or removing elements, and you can change the contents of the dictionaries within the list. However, tuples within the list remain immutable.\n",
    "### **Tuples**:\n",
    "#### Immutable: Tuples can contain lists or dictionaries. You cannot modify the tuple's structure, but if the tuple contains a list or a dictionary, you can modify the contents of those lists or dictionaries. The tuple's elements themselves (if they are tuples or other immutable objects) cannot be changed.\n",
    "### **Dictionaries**:\n",
    "#### Keys are Immutable, Values can be Mutable: Dictionaries can use tuples as keys (since tuples are immutable) and can have lists or other dictionaries as values. You can modify the dictionary structure by adding or removing key-value pairs, and you can modify the contents of lists or dictionaries stored as values. However, the tuple keys themselves cannot be altered.In Python, dictionary keys are often strings because we commonly use strings to represent the names or properties of things"
   ]
  },
  {
   "cell_type": "code",
   "execution_count": null,
   "metadata": {},
   "outputs": [],
   "source": [
    "from datetime import date\n",
    "date\n",
    "today=date(2015,2,20)\n",
    "today"
   ]
  },
  {
   "cell_type": "code",
   "execution_count": null,
   "metadata": {},
   "outputs": [],
   "source": [
    "#Self-Reference: After executing t[1:3] = [t], the second element of the list t becomes a reference to the list t itself, not a new list containing [1, 2, 3].\n",
    "#Printing Special Handling: Python uses [...] to represent this self-reference when printing, to avoid infinite recursion.\n",
    "t=[1,2,3]\n",
    "b=[t]\n",
    "print(b)\n",
    "print(t[1:3])\n",
    "t[1:3]=[t]\n",
    "print(t[0])\n",
    "print(t)\n",
    "#The statement t[1:3] = [t] replaces this slice with a new list containing the reference to the list t itself, meaning that t now looks like this\n",
    "t.extend(t)\n",
    "print(t)\n",
    "print(t[1])"
   ]
  },
  {
   "cell_type": "markdown",
   "metadata": {},
   "source": [
    "### List Methods\n",
    "#### **1.append(el)**\n",
    "#### Add el to the end of the list\n",
    "#### Return None\n",
    "#### **2.extend(lst)**\n",
    "#### Extend the list by concatenating it with lst\n",
    "#### Return None. \n",
    "#### **3.insert(i, el)**\n",
    "#### Insert el at index i. This does not replace any existing elements, but only adds the new element el. \n",
    "#### Return None. \n",
    "#### **4.remove(el)**\n",
    "#### Remove the first occurrence of el in list. Errors if el is not in the list. \n",
    "#### Return None otherwise. \n",
    "#### **5.pop(i)**\n",
    "#### Remove and return the element at index i\n",
    "#### **el is simply a commonly used variable name abbreviation, typically used in loops to represent the current element of a list or other iterable object.\"**\n"
   ]
  },
  {
   "cell_type": "code",
   "execution_count": null,
   "metadata": {},
   "outputs": [],
   "source": [
    "lst=[5,6,7,8]\n",
    "lst.append(6)\n",
    "print(lst)\n",
    "lst.insert(0,9)\n",
    "print(lst)\n",
    "lst.pop(2)\n",
    "print(lst)\n",
    "lst.remove(6)\n",
    "print(lst)\n",
    "a,b=lst,lst[:]\n",
    "print(a,b)\n",
    "a is lst\n",
    "b==lst\n",
    "b is lst\n",
    "lst.extend([4, 5])\n",
    "print(lst)\n",
    "lst.extend([lst.append(9), lst.append(10)])\n",
    "print(lst)"
   ]
  },
  {
   "cell_type": "code",
   "execution_count": null,
   "metadata": {},
   "outputs": [],
   "source": [
    "# Initial list\n",
    "suits1 = ['coin', 'string', 'myriad']\n",
    "suits2 = ['coin', 'string', 'myriad']\n",
    "\n",
    "# original_suits is a reference to suits\n",
    "original_suits = suits1\n",
    "exchange_suits = suits2\n",
    "\n",
    "# Perform the operations\n",
    "suits1.pop()                       # Removes 'myriad'\n",
    "suits1.remove('string')            # Removes 'string'\n",
    "original_suits.append('cup')       # Appends 'cup'\n",
    "original_suits.append(['heart', 'diamond']) #append the whole list ['heart', 'diamond'] in the end of list\n",
    "'''\n",
    "suits[2] = 'spade'                # Replaces the element at index 2 with 'spade'\n",
    "suits[0:2] = ['heart', 'diamond'] # Replaces the first two elements\n",
    "'''\n",
    "\n",
    "exchange_suits.append(['sword','cup'])#Extends with ['sword', 'cup']\n",
    "\n",
    "\n",
    "print(\"original_suits:\", original_suits)\n",
    "print(\"exchange_suits:\",exchange_suits)"
   ]
  },
  {
   "cell_type": "code",
   "execution_count": null,
   "metadata": {},
   "outputs": [],
   "source": [
    "def mystery(s):\n",
    "    s.pop()  # Removes the last element of the list\n",
    "    s.pop()  # Removes the last element of the list again\n",
    "\n",
    "four = [1, 2, 3, 4]\n",
    "mystery(four)\n",
    "\n",
    "print(four)  # This will print the modified list\n"
   ]
  },
  {
   "cell_type": "code",
   "execution_count": null,
   "metadata": {},
   "outputs": [],
   "source": [
    "\"\"\"     Identity:\n",
    "<exp0> is <exp1>\n",
    "evaluates to True if both <exp0> and <exp1> evaluate to the same object\n",
    "\n",
    "        Equality\n",
    "<exp0> == <exp1> \n",
    "evaluates to True if both <exp0> and <exp1> evaluate to equal values\n",
    "\n",
    "Identical objects are always equal values\n",
    "\"\"\""
   ]
  },
  {
   "cell_type": "code",
   "execution_count": null,
   "metadata": {},
   "outputs": [],
   "source": [
    "# Define a tuple with some initial values\n",
    "my_tuple = (1, 2, 3)\n",
    "\n",
    "# Attempt to modify an element (this will raise an error)\n",
    "try:\n",
    "    my_tuple[0] = 10\n",
    "except TypeError as e:\n",
    "    print(f\"Error: {e}\")\n",
    "\n",
    "# Tuples are immutable, so you cannot change their elements\n",
    "# Instead, you can create a new tuple by concatenating\n",
    "new_tuple = my_tuple + (4, 5)\n",
    "\n",
    "# Print the original tuple and the new tuple\n",
    "print(\"Original tuple:\", my_tuple)\n",
    "print(\"New tuple:\", new_tuple)\n",
    "\n",
    "# Tuples can contain different data types, including another tuple\n",
    "complex_tuple = (1, \"hello\", [2, 3], (4, 5))\n",
    "\n",
    "# Accessing elements of the tuple\n",
    "print(\"First element of complex_tuple:\", complex_tuple[0])\n",
    "print(\"Nested tuple in complex_tuple:\", complex_tuple[3])\n"
   ]
  },
  {
   "cell_type": "markdown",
   "metadata": {},
   "source": [
    "# Discussion on List"
   ]
  },
  {
   "cell_type": "markdown",
   "metadata": {},
   "source": [
    "### When elements of a **sequence (such as lists or tuples) themselves are sequences**, and all inner sequences have a fixed length."
   ]
  },
  {
   "cell_type": "code",
   "execution_count": null,
   "metadata": {},
   "outputs": [],
   "source": [
    "# Sequence unpacking\n",
    "pairs = [[1, 2], [2, 2], [2, 3], [4, 4]]\n",
    "same_count = 0\n",
    "for x, y in pairs:\n",
    "        if x == y:\n",
    "            same_count = same_count + 1\n",
    "same_count\n"
   ]
  },
  {
   "cell_type": "markdown",
   "metadata": {},
   "source": [
    "### List Comprehensions"
   ]
  },
  {
   "cell_type": "code",
   "execution_count": null,
   "metadata": {},
   "outputs": [],
   "source": [
    "odds = [1, 3, 5, 7, 9]\n",
    "[x+1 for x in odds]\n",
    "[2, 4, 6, 8, 10]"
   ]
  },
  {
   "cell_type": "markdown",
   "metadata": {},
   "source": [
    "### **Aggregation**"
   ]
  },
  {
   "cell_type": "code",
   "execution_count": null,
   "metadata": {},
   "outputs": [],
   "source": [
    "def divisors(n):\n",
    "        return [1] + [x for x in range(2, n) if n % x == 0]\n",
    "\n",
    "divisors(4)\n",
    "[1, 2]\n",
    "divisors(12)\n",
    "[1, 2, 3, 4, 6]"
   ]
  },
  {
   "cell_type": "markdown",
   "metadata": {},
   "source": [
    "### The difference between **is and ==** in Python\n",
    "###  **is** checks whether two objects are the same object, i.e., whether they have the same memory address.\n",
    "###  **==** checks whether the values of two objects are equal. "
   ]
  },
  {
   "cell_type": "markdown",
   "metadata": {},
   "source": [
    "# Discussion on Dictionary"
   ]
  },
  {
   "cell_type": "code",
   "execution_count": null,
   "metadata": {},
   "outputs": [],
   "source": [
    "# The first method to create a dictionary\n",
    "numerals = {'I': 1.0, 'V': 5, 'X': 10}\n",
    "\n",
    "\n",
    "# The second method to create a dictionary\n",
    "# 创建一个由键值对组成的列表\n",
    "pairs = [(\"name\", \"Alice\"), (\"age\", 30), (\"city\", \"New York\")]\n",
    "# 使用 dict() 方法将其转化为字典\n",
    "my_dict = dict(pairs)\n",
    "# 输出字典\n",
    "print(my_dict)\n",
    "\n",
    "\n",
    "# The third method to create a dictionary\n",
    "my_dict = {i: i**2 for i in range(5)}\n",
    "print(my_dict)\n"
   ]
  },
  {
   "cell_type": "markdown",
   "metadata": {},
   "source": [
    "# Lecture 18 Iteration"
   ]
  },
  {
   "cell_type": "markdown",
   "metadata": {},
   "source": [
    "### the object can use **iter()** to return a iterator:\n",
    "#### Lists: e.g., [1, 2, 3]\n",
    "#### Tuples: e.g., (1, 2, 3)\n",
    "#### Strings: e.g., \"Hello\"\n",
    "#### Dictionaries: e.g., {'a': 1, 'b': 2}\n",
    "#### Sets: e.g., {1, 2, 3}\n",
    "#### Generators: e.g., (x * 2 for x in range(3))\n",
    "#### Range Objects: e.g., range(1, 10)\n",
    "#### Zip Objects: e.g., zip([1, 2, 3], ['a', 'b', 'c'])"
   ]
  },
  {
   "cell_type": "markdown",
   "metadata": {},
   "source": [
    "### A **\"lazy iterator\"** (or lazy evaluation) refers to an iterator that does not compute or generate all its elements immediately. Instead, it generates elements one at a time, on demand, as they are requested."
   ]
  },
  {
   "cell_type": "markdown",
   "metadata": {},
   "source": [
    "### A container can provide an iterator that provides access to its elements in order\n",
    "#### iter(**iterable**): Return an iterator over the elements of an iterable value\n",
    "#### next(**iterator**): Return the next element in an iterator\n"
   ]
  },
  {
   "cell_type": "markdown",
   "metadata": {},
   "source": [
    "### **Iterators with for statements**\n",
    "#### for var in iterable:"
   ]
  },
  {
   "cell_type": "code",
   "execution_count": null,
   "metadata": {},
   "outputs": [],
   "source": [
    "def double(x):\n",
    "    print('**',x,'=>',2*x,'**')\n",
    "    return 2*x\n",
    "\"\"\"\n",
    "# Example: The map function as a lazy iterator\n",
    "m = map(lambda x: x * 2, range(5))  # Create a map object\n",
    "\n",
    "# No immediate computation occurs here\n",
    "for item in m:\n",
    "    print(item)  # Only computes x * 2 for each item as it is accessed\n",
    "\"\"\"\n",
    "\n",
    "m=map(double,range(3,7))\n",
    "f=lambda y:y>=10\n",
    "t=filter(f,m)\n",
    "\n",
    "next(t)\n",
    "print('/n')\n",
    "\n",
    "next(t)\n",
    "\n"
   ]
  },
  {
   "cell_type": "code",
   "execution_count": null,
   "metadata": {},
   "outputs": [],
   "source": [
    "t=[1,2,3,2,1]\n",
    "reversed(t)\n",
    "list(reversed(t))==list(t)"
   ]
  },
  {
   "cell_type": "code",
   "execution_count": null,
   "metadata": {},
   "outputs": [],
   "source": [
    "dict={'a':1,'b':2,'c':3}\n",
    "\n",
    "for x in dict:\n",
    "    print(x)\n",
    "for y in dict.values():\n",
    "    print(y)\n",
    "for z in dict.items():\n",
    "    print(z)\n",
    "\n",
    "k=zip(dict,dict.values())\n",
    "\n",
    "next(k)"
   ]
  },
  {
   "cell_type": "code",
   "execution_count": null,
   "metadata": {},
   "outputs": [],
   "source": [
    "'''Many Built-In Functions for Python return iterators that compute lazily\n",
    "# map(func, iterable): Iterate over func(x) for x in iterable\n",
    "# filter(func, iterable): Iterate over x in iterable if func(x)\n",
    "# zip(first_iter, second_iter): Iterate over co-indexed (x, y) pairs\n",
    "# reversed(sequence): Iterate over x in a sequence in reverse order'''"
   ]
  },
  {
   "cell_type": "markdown",
   "metadata": {},
   "source": [
    "### To view the entire contents of an iterator, you can place the resulting elements into a container\n",
    "#### list(iterator): Create a list containing all x in iterator\n",
    "#### tuple(iterator): Create a tuple containing all x in iterator\n",
    "#### sorted(iterator): Create a sorted list containing x in iterator\n",
    "#### Note that doing so will “deplete” the iterator!\n",
    "#### Calling next on the iterator afterwards would result in a StopIteration error\n"
   ]
  },
  {
   "cell_type": "code",
   "execution_count": null,
   "metadata": {},
   "outputs": [],
   "source": [
    "def yield_odds(s):\n",
    "    \"\"\"Yield all the odd numbers in the iterable s.\"\"\"\n",
    "    for x in s:\n",
    "        if x % 2 == 1:\n",
    "            yield x\n",
    "\n",
    "l=yield_odds([2,68,9,7,8,1,15,689])\n",
    "\n",
    "list(l)\n"
   ]
  },
  {
   "cell_type": "code",
   "execution_count": null,
   "metadata": {},
   "outputs": [],
   "source": [
    "def simple_generator():\n",
    "    yield 1\n",
    "    yield 2\n",
    "    yield 3\n",
    "\n",
    "# Create a generator object\n",
    "gen = simple_generator()\n",
    "\n",
    "# Iterate over the generator\n",
    "for value in gen:\n",
    "    print(value)\n",
    "\n",
    "def count_up_to(max_value):\n",
    "    count = 1\n",
    "    while count <= max_value:\n",
    "        yield count\n",
    "        count += 1\n",
    "\n",
    "# Create a generator\n",
    "counter = count_up_to(5)\n",
    "\n",
    "# Iterate over the generator\n",
    "for number in counter:\n",
    "    print(number)\n",
    "\n",
    "def generator3():\n",
    "    yield from [1, 2, 3]\n",
    "    yield from (4, 5)\n",
    "    yield \"End\"\n",
    "\n",
    "# Create a generator\n",
    "gen = generator3()\n",
    "\n",
    "# Iterate over the generator\n",
    "for value in gen:\n",
    "    print(value)\n"
   ]
  },
  {
   "cell_type": "markdown",
   "metadata": {},
   "source": [
    "### If your function expects an iterable and you need to use len() or indexing, be cautious. The function might receive an iterator (like a generator), which doesn't support these operations.\n",
    "\n",
    "#### In summary, while all iterators are iterable, not all iterables allow operations like len() or indexing. It's important to account for this when writing functions that work with different types of iterables."
   ]
  },
  {
   "cell_type": "markdown",
   "metadata": {},
   "source": [
    "## Discussion 05 on Map Filter and Reduce\n",
    "###  **does not execute immediately but returns an iterator object. It uses lazy evaluation, generating elements only when needed**"
   ]
  },
  {
   "cell_type": "code",
   "execution_count": null,
   "metadata": {},
   "outputs": [],
   "source": [
    "numbers = [1, 2, 3, 4, 5]\n",
    "result = map(lambda x: x * 2, numbers)\n",
    "\n",
    "# Convert to list to see the result\n",
    "print(list(result))  # Output: [2, 4, 6, 8, 10]"
   ]
  },
  {
   "cell_type": "code",
   "execution_count": null,
   "metadata": {},
   "outputs": [],
   "source": [
    "numbers = [1, 2, 3, 4, 5, 6]\n",
    "result = filter(lambda x: x % 2 == 0, numbers)\n",
    "\n",
    "# Convert to list to see the result\n",
    "print(list(result))  # Output: [2, 4, 6]"
   ]
  },
  {
   "cell_type": "code",
   "execution_count": null,
   "metadata": {},
   "outputs": [],
   "source": [
    "from functools import reduce\n",
    "#reduce(function, iterable[, initializer])\n",
    "#A \"function\" that takes two arguments and performs cumulative computation.\n",
    "numbers = [1, 2, 3, 4, 5]\n",
    "result = reduce(lambda x, y: x + y, numbers)\n",
    "\n",
    "print(result)  # Output: 15"
   ]
  },
  {
   "cell_type": "markdown",
   "metadata": {},
   "source": [
    "## Discussion 05 on Mutability"
   ]
  },
  {
   "cell_type": "code",
   "execution_count": null,
   "metadata": {},
   "outputs": [],
   "source": [
    "list1 = [1, 2, 3]\n",
    "list2 = list1  # Assign list1 to list2\n",
    "\n",
    "# Check if they refer to the same object\n",
    "print(list1 is list2)  # Output: True\n",
    "\n",
    "# Check if their values are equal\n",
    "print(list1 == list2)  # Output: True"
   ]
  },
  {
   "cell_type": "code",
   "execution_count": null,
   "metadata": {},
   "outputs": [],
   "source": [
    "s2 = [[1, 2], [3, 4], 5]\n",
    "s3 = s2[:]  # Perform a shallow copy of s2\n",
    "\n",
    "# Check if the nested lists are the same object\n",
    "print(s2[0] is s3[0])  # Output: True (The nested list is the same object)\n",
    "\n",
    "# Modify the nested list in s3\n",
    "s3[0].append(99)\n",
    "\n",
    "# Check the changes in both s2 and s3\n",
    "print(s2)  # Output: [[1, 2, 99], [3, 4], 5]\n",
    "print(s3)  # Output: [[1, 2, 99], [3, 4], 5]"
   ]
  },
  {
   "cell_type": "markdown",
   "metadata": {},
   "source": [
    "### Discussion 05 on  OOP"
   ]
  },
  {
   "cell_type": "markdown",
   "metadata": {},
   "source": [
    "#### Here is a recap of what we discussed above:\n",
    "#### **class**: a template for creating objects\n",
    "#### **instance**: a single object created from a class\n",
    "#### **instance** variable: a data attribute of an object, specific to an instance\n",
    "#### **class variable**: a data attribute of an object, shared by all instances of a class\n",
    "#### **method**: a bound function that may be called on all instances of a class\n",
    "#### Instance variables, class variables, and methods are all considered **attributes**of an object."
   ]
  },
  {
   "cell_type": "code",
   "execution_count": null,
   "metadata": {},
   "outputs": [],
   "source": [
    "class Parent:\n",
    "    def say_hello(self):\n",
    "        print(\"Hello from Parent!\")\n",
    "\n",
    "class Child(Parent):\n",
    "    def say_hello(self):\n",
    "        super().say_hello()  # 调用父类的 say_hello 方法\n",
    "        print(\"Hello from Child!\")\n",
    "\n",
    "child = Child()\n",
    "child.say_hello()\n"
   ]
  },
  {
   "cell_type": "markdown",
   "metadata": {},
   "source": [
    "### **A classmethod** is defined with the @classmethod decorator\n",
    "#### A classmethod is called on the class itself, and its first parameter is cls, representing the class object. You can also call it from an instance, but it still receives the class object as the first argument\n",
    "#### classmethod is used for class-level operations, such as factory methods, class attribute modifications, or performing actions related to the entire class, not a specific instance."
   ]
  },
  {
   "cell_type": "code",
   "execution_count": null,
   "metadata": {},
   "outputs": [],
   "source": [
    "class MyClass:\n",
    "    class_variable = \"This is a class variable\"\n",
    "    \n",
    "    def __init__(self, value):\n",
    "        self.instance_variable = value\n",
    "\n",
    "    # Regular instance method\n",
    "    def instance_method(self):\n",
    "        return f\"Accessed via instance: {self.instance_variable}\"\n",
    "\n",
    "    # Class method\n",
    "    @classmethod\n",
    "    def class_method(cls):\n",
    "        return f\"Accessed via class: {cls.class_variable}\"\n",
    "\n",
    "# Create an instance\n",
    "obj = MyClass(\"Instance variable value\")\n",
    "\n",
    "# Call instance method\n",
    "print(obj.instance_method())  # Output: Accessed via instance: Instance variable value\n",
    "\n",
    "# Call class method\n",
    "print(MyClass.class_method())  # Output: Accessed via class: This is a class variable\n"
   ]
  },
  {
   "cell_type": "code",
   "execution_count": null,
   "metadata": {},
   "outputs": [],
   "source": [
    "class MyClass:\n",
    "    class_var = 100  # Class variable\n",
    "\n",
    "    def __init__(self):\n",
    "        pass\n",
    "\n",
    "# Create two instances\n",
    "obj1 = MyClass()\n",
    "obj2 = MyClass()\n",
    "\n",
    "# Modify the class variable\n",
    "MyClass.class_var -= 10\n",
    "\n",
    "# Output the class variable\n",
    "print(obj1.class_var)  # Output: 90\n",
    "print(obj2.class_var)  # Output: 90\n",
    "print(MyClass.class_var)  # Output: 90\n",
    "\n",
    "\n",
    "\n",
    "class MyClass:\n",
    "    class_var = 100  # Class variable\n",
    "\n",
    "    def __init__(self):\n",
    "        pass\n",
    "\n",
    "# Create two instances\n",
    "obj1 = MyClass()\n",
    "obj2 = MyClass()\n",
    "\n",
    "# Attempt to modify the class variable through the instance\n",
    "obj1.class_var -= 10  # This actually creates a new instance variable in obj1\n",
    "\n",
    "# Output the results\n",
    "print(f\"obj1.class_var: {obj1.class_var}\")  # Output: 90 (Instance variable)\n",
    "print(f\"obj2.class_var: {obj2.class_var}\")  # Output: 100 (Class variable remains unchanged)\n",
    "print(f\"MyClass.class_var: {MyClass.class_var}\")  # Output: 100 (Class variable remains unchanged)\n",
    "\n"
   ]
  },
  {
   "cell_type": "markdown",
   "metadata": {},
   "source": [
    "# Discussion on Representation"
   ]
  },
  {
   "cell_type": "code",
   "execution_count": null,
   "metadata": {},
   "outputs": [],
   "source": [
    "class MyClass:\n",
    "    def __init__(self, name, value):\n",
    "        self.name = name\n",
    "        self.value = value\n",
    "\n",
    "    def __str__(self):\n",
    "        return f\"MyClass object: {self.name}\"\n",
    "\n",
    "    def __repr__(self):\n",
    "        return f\"MyClass('{self.name}', {self.value})\"\n",
    "\n",
    "obj = MyClass(\"Test\", 123)\n",
    "\n",
    "print(str(obj))   # Output: MyClass object: Test\n",
    "print(repr(obj))  # Output: MyClass('Test', 123)\n"
   ]
  },
  {
   "cell_type": "markdown",
   "metadata": {},
   "source": [
    "# Lecture 15 Inheritance vs. Composition:"
   ]
  },
  {
   "cell_type": "markdown",
   "metadata": {},
   "source": [
    "### Inheritance is best for representing is-a relationships\n",
    "### Composition is best for representing has-a relationships"
   ]
  },
  {
   "cell_type": "code",
   "execution_count": null,
   "metadata": {},
   "outputs": [],
   "source": [
    "# Superclass\n",
    "class Animal:\n",
    "    def speak(self):\n",
    "        return \"Animal sound\"\n",
    "\n",
    "# Subclass inherits from superclass\n",
    "class Dog(Animal):\n",
    "    def speak(self):\n",
    "        return \"Bark\"\n",
    "\n",
    "# Instantiate\n",
    "dog = Dog()\n",
    "print(dog.speak())  # Output: Bark\n"
   ]
  },
  {
   "cell_type": "code",
   "execution_count": null,
   "metadata": {},
   "outputs": [],
   "source": [
    "# Class to be composed\n",
    "class Engine:\n",
    "    def start(self):\n",
    "        return \"Engine started\"\n",
    "\n",
    "# Class using composition\n",
    "class Car:\n",
    "    def __init__(self):\n",
    "        self.engine = Engine()\n",
    "\n",
    "    def start(self):\n",
    "        return self.engine.start()\n",
    "\n",
    "# Instantiate\n",
    "car = Car()\n",
    "print(car.start())  # Output: Engine started\n"
   ]
  },
  {
   "cell_type": "markdown",
   "metadata": {},
   "source": [
    "# Discussion on String Representation"
   ]
  },
  {
   "cell_type": "code",
   "execution_count": null,
   "metadata": {},
   "outputs": [],
   "source": [
    "class Person:\n",
    "    def __init__(self, name, age):\n",
    "        self.name = name\n",
    "        self.age = age\n",
    "\n",
    "    def __str__(self):\n",
    "        return f\"Person(name: {self.name}, age: {self.age})\"\n",
    "\n",
    "person = Person(\"Alice\", 30)\n",
    "print(person)  # 输出: Person(name: Alice, age: 30)\n"
   ]
  },
  {
   "cell_type": "code",
   "execution_count": null,
   "metadata": {},
   "outputs": [],
   "source": [
    "class Person:\n",
    "    def __init__(self, name, age):\n",
    "        self.name = name\n",
    "        self.age = age\n",
    "\n",
    "    def __repr__(self):\n",
    "        return f\"Person('{self.name}', {self.age})\"\n",
    "\n",
    "person = Person(\"Alice\", 30)\n",
    "print(repr(person))  # 输出: Person('Alice', 30)\n"
   ]
  },
  {
   "cell_type": "markdown",
   "metadata": {},
   "source": [
    "### F-strings\n"
   ]
  },
  {
   "cell_type": "code",
   "execution_count": null,
   "metadata": {},
   "outputs": [],
   "source": [
    "a = 5\n",
    "b = 10\n",
    "result = f\"The sum of {a} and {b} is {a + b}.\"\n",
    "print(result)  # Output: The sum of 5 and 10 is 15.\n",
    "\n",
    "pi = 3.14159265\n",
    "formatted_pi = f\"Pi rounded to two decimals is {pi:.2f}.\"\n",
    "print(formatted_pi)  # Output: Pi rounded to two decimals is 3.14.\n"
   ]
  },
  {
   "cell_type": "markdown",
   "metadata": {},
   "source": [
    "# Lecture17 Linked Lists"
   ]
  },
  {
   "cell_type": "markdown",
   "metadata": {},
   "source": [
    "### Classes Representing Data"
   ]
  },
  {
   "cell_type": "markdown",
   "metadata": {},
   "source": [
    "#### If your class is used to represent a certain data structure, such as a **linked list, tree, matrix**, implementing the __str__() method can provide a more human-readable way to display the object's content."
   ]
  },
  {
   "cell_type": "code",
   "execution_count": null,
   "metadata": {},
   "outputs": [],
   "source": [
    "class Person:\n",
    "    def __init__(self, name, age):\n",
    "        self.name = name\n",
    "        self.age = age\n",
    "    \n",
    "    def __str__(self):\n",
    "        return f'Person({self.name}, {self.age})'\n",
    "\n",
    "person = Person('Alice', 30)\n",
    "print(person)  # Output: Person(Alice, 30)\n"
   ]
  },
  {
   "cell_type": "code",
   "execution_count": null,
   "metadata": {},
   "outputs": [],
   "source": [
    "#   isinstance(object, classinfo)\n",
    "\n",
    "x = 10\n",
    "print(isinstance(x, int))  # 输出: True\n",
    "print(isinstance(x, str))  # 输出: False\n"
   ]
  },
  {
   "cell_type": "code",
   "execution_count": null,
   "metadata": {},
   "outputs": [],
   "source": [
    "class Link:\n",
    "    empty=()\n",
    "    # Tuples () are immutable, meaning they cannot be changed once created\n",
    "    def __init__(self,first,rest=empty):\n",
    "        assert rest is Link.empty or isinstance(rest,Link)\n",
    "        self.first=first\n",
    "        self.rest=rest\n",
    "\n",
    "    def __str__(self):\n",
    "        string = '<'\n",
    "        while self.rest is not Link.empty:\n",
    "            string += str(self.first) + ' '\n",
    "            self = self.rest\n",
    "        string += str(self.first) + '>'\n",
    "        return string\n",
    "\n",
    "s=Link(3,Link(4,Link(5)))\n",
    "print(Link(3,Link(4,Link(5))))\n",
    "print(s.first)\n",
    "print(s.rest)\n",
    "print(s.rest.first)\n",
    "print(s.rest.rest)"
   ]
  },
  {
   "cell_type": "code",
   "execution_count": null,
   "metadata": {},
   "outputs": [],
   "source": [
    "def reverse_link(s):\n",
    "    empty=()\n",
    "    new_s=()\n",
    "    while s is not empty:\n",
    "        temp=s.rest\n",
    "        s.rest=new_s\n",
    "        new_s=s\n",
    "        s=temp\n",
    "    return new_s\n",
    "\n",
    "# 构造链表\n",
    "s = Link(1, Link(2, Link(3)))\n",
    "\n",
    "# 反转链表\n",
    "reversed_s = reverse_link(s)\n",
    "\n",
    "# 打印反转后的链表\n",
    "print(reversed_s)  # 输出: <3 2 1>\n"
   ]
  },
  {
   "cell_type": "markdown",
   "metadata": {},
   "source": [
    "# Discussion on tree"
   ]
  },
  {
   "cell_type": "code",
   "execution_count": null,
   "metadata": {},
   "outputs": [],
   "source": [
    "class tree:\n",
    "    def __init__(self,label,branches=[]) : \n",
    "        self.label=label\n",
    "        for branch in branches:\n",
    "            assert isinstance(branch,tree) \n",
    "        self.branches=list(branches)\n",
    "\n",
    "    def __str__(self):\n",
    "        return self._print_tree()\n",
    "\n",
    "    def _print_tree(self, level=0):\n",
    "        result = \"  \" * level + str(self.label) + \"\\n\"\n",
    "        for branch in self.branches:\n",
    "            result += branch._print_tree(level + 1)\n",
    "        return result\n",
    "# 构造一棵树\n",
    "t = tree(1, [tree(2), tree(3, [tree(4)])])\n",
    "print(t)\n",
    "print(t.label)           # 输出: 1\n",
    "print(t.branches[0].label)  # 输出: 2\n",
    "print(t.branches[1].branches[0].label)  # 输出: 4\n",
    "print(\"\\n\")\n",
    "def fib_tree(n):\n",
    "    if n==0 or n==1:\n",
    "        return tree(n)\n",
    "    else:\n",
    "        left=fib_tree(n-2)\n",
    "        right=fib_tree(n-1)\n",
    "        fib_n=left.label+right.label\n",
    "        return tree(fib_n,[left,right])\n",
    "\n",
    "print(fib_tree(5))\n"
   ]
  },
  {
   "cell_type": "code",
   "execution_count": null,
   "metadata": {},
   "outputs": [],
   "source": [
    "def tree2(label,branches=[]) : \n",
    "        for branch in branches:\n",
    "            assert is_tree(branch)\n",
    "        return [label]+list(branches)\n",
    "def label(tree2):\n",
    "      return tree2[0]\n",
    "def branches(tree2):\n",
    "      return tree2[1:]\n",
    "\n",
    "def is_tree(tree):\n",
    "    if type(tree)!=list or len(tree)<1:\n",
    "        return False\n",
    "    for branch in branches(tree):\n",
    "        if not is_tree(branch):\n",
    "            return False\n",
    "    return True\n",
    "\n",
    "def fib_tree2(n):\n",
    "    if n==0 or n==1:\n",
    "        return tree2(n)\n",
    "    else:\n",
    "        left=fib_tree2(n-2)\n",
    "        right=fib_tree2(n-1)\n",
    "        fib_n2=label(left)+label(right)\n",
    "        return tree2(fib_n2,[left,right])\n",
    "\n",
    "\n",
    "print(fib_tree2(5))"
   ]
  },
  {
   "cell_type": "markdown",
   "metadata": {},
   "source": [
    "# Lecture 12 Efficiency"
   ]
  },
  {
   "cell_type": "code",
   "execution_count": null,
   "metadata": {},
   "outputs": [],
   "source": [
    "def fib(n):\n",
    "        if n == 0:\n",
    "            return 0\n",
    "        elif n == 1:\n",
    "            return 1\n",
    "        else:\n",
    "            return fib(n - 2) + fib(n - 1)\n",
    "\n",
    "def count(f):\n",
    "    # 定义了一个内部函数 counted，它包装了原函数 f\n",
    "    def counted(n):\n",
    "        # 每次调用时，增加 call_count 计数\n",
    "        counted.call_count += 1\n",
    "        # 返回原函数的调用结果\n",
    "        return f(n)\n",
    "    \n",
    "    # 初始化 counted 的属性 call_count 为 0\n",
    "    counted.call_count = 0\n",
    "    # 返回内部函数 counted\n",
    "    return counted\n",
    "\n",
    "fib=count(fib)#你给 fib 函数加上 count 装饰器时，整个 fib 函数被包\n",
    "print(fib(5))\n",
    "fib(5)\n",
    "print(fib.call_count)"
   ]
  },
  {
   "cell_type": "code",
   "execution_count": null,
   "metadata": {},
   "outputs": [],
   "source": [
    "def fib(n):\n",
    "        if n == 0:\n",
    "            return 0\n",
    "        elif n == 1:\n",
    "            return 1\n",
    "        else:\n",
    "            return fib(n - 2) + fib(n - 1)\n",
    "        \n",
    "def memo(f):\n",
    "    # cache 用于保存已经计算过的结果\n",
    "    cache = {}\n",
    "    \n",
    "    # memorized 是包装函数，检查结果是否已经缓存\n",
    "    def memorized(n):\n",
    "        if n not in cache:\n",
    "            # 如果结果未缓存，则计算并缓存结果\n",
    "            cache[n] = f(n)\n",
    "        # 返回缓存中的结果\n",
    "        return cache[n]\n",
    "    \n",
    "    # 返回包装函数 memorized\n",
    "    return memorized\n",
    "\n",
    "def count(f):\n",
    "    # 定义了一个内部函数 counted，它包装了原函数 f\n",
    "    def counted(n):\n",
    "        # 每次调用时，增加 call_count 计数\n",
    "        counted.call_count += 1\n",
    "        # 返回原函数的调用结果\n",
    "        return f(n)\n",
    "    \n",
    "    # 初始化 counted 的属性 call_count 为 0\n",
    "    counted.call_count = 0\n",
    "    # 返回内部函数 counted\n",
    "    return counted\n",
    "\n",
    "counted_fib = count(fib)\n",
    "fib =memo(counted_fib)\n",
    "fib(19)\n",
    "print(counted_fib.call_count)\n"
   ]
  },
  {
   "cell_type": "markdown",
   "metadata": {},
   "source": [
    "# Discussion on Big O theorem"
   ]
  },
  {
   "cell_type": "code",
   "execution_count": null,
   "metadata": {},
   "outputs": [],
   "source": [
    "# Constant Time Complexity: Θ(1)\n",
    "def get_first_element(arr):\n",
    "    return arr[0]  # Always takes constant time"
   ]
  },
  {
   "cell_type": "code",
   "execution_count": null,
   "metadata": {},
   "outputs": [],
   "source": [
    "# Logarithmic Time Complexity: Θ(log n)\n",
    "def binary_search(arr, target):\n",
    "    left, right = 0, len(arr) - 1\n",
    "    while left <= right:\n",
    "        mid = (left + right) // 2\n",
    "        if arr[mid] == target:\n",
    "            return mid\n",
    "        elif arr[mid] < target:\n",
    "            left = mid + 1\n",
    "        else:\n",
    "            right = mid - 1\n",
    "    return -1  # Target not found"
   ]
  },
  {
   "cell_type": "code",
   "execution_count": null,
   "metadata": {},
   "outputs": [],
   "source": [
    "# logarithmic Complexity: log n\n",
    "def recursive_log(arr, n):\n",
    "    if n <= 1:\n",
    "        return\n",
    "    mid = len(arr) // 2\n",
    "    recursive_log(arr[:mid], n // 2)\n",
    "    recursive_log(arr[mid:], n // 2)"
   ]
  },
  {
   "cell_type": "code",
   "execution_count": null,
   "metadata": {},
   "outputs": [],
   "source": [
    "#  Linear Time Complexity: Θ(n)\n",
    "def linear_search(arr, target):\n",
    "    for i in range(len(arr)):\n",
    "        if arr[i] == target:\n",
    "            return i\n",
    "    return -1  # Target not found"
   ]
  },
  {
   "cell_type": "code",
   "execution_count": null,
   "metadata": {},
   "outputs": [],
   "source": [
    "# Quadratic Time Complexity: Θ(n²)\n",
    "def bubble_sort(arr):\n",
    "    n = len(arr)\n",
    "    for i in range(n):\n",
    "        for j in range(0, n-i-1):\n",
    "            if arr[j] > arr[j+1]:\n",
    "                arr[j], arr[j+1] = arr[j+1], arr[j]  # Swap\n",
    "    return arr"
   ]
  },
  {
   "cell_type": "code",
   "execution_count": null,
   "metadata": {},
   "outputs": [],
   "source": [
    "#Exponential Time Complexity: Θ(bⁿ)\n",
    "def fibonacci(n):\n",
    "    if n <= 1:\n",
    "        return n\n",
    "    return fibonacci(n-1) + fibonacci(n-2)\n"
   ]
  },
  {
   "cell_type": "markdown",
   "metadata": {},
   "source": [
    "# Discussion  implicit sequence"
   ]
  },
  {
   "cell_type": "code",
   "execution_count": null,
   "metadata": {},
   "outputs": [],
   "source": [
    "r = range(10000,1000000000)\n",
    "print(r)\n",
    "r[45006230]\n"
   ]
  },
  {
   "cell_type": "code",
   "execution_count": null,
   "metadata": {},
   "outputs": [],
   "source": [
    "# 创建一个简单的迭代器\n",
    "my_list = [1, 2, 3, 4]\n",
    "it = iter(my_list)\n",
    "\n",
    "# 使用next()逐个获取元素\n",
    "print(next(it))  # 输出 1\n",
    "print(next(it))  # 输出 2\n",
    "print(next(it))  # 输出 3\n",
    "print(next(it))  # 输出 4\n"
   ]
  },
  {
   "cell_type": "code",
   "execution_count": null,
   "metadata": {},
   "outputs": [],
   "source": [
    "# 创建一个 range 对象\n",
    "r = range(3, 13)\n",
    "\n",
    "# r 的第一个迭代器\n",
    "s = iter(r)\n",
    "print(next(s))  # 输出 3\n",
    "print(next(s))  # 输出 4\n",
    "\n",
    "# r 的第二个迭代器\n",
    "t = iter(r)\n",
    "print(next(t))  # 输出 3\n",
    "print(next(t))  # 输出 4\n",
    "\n",
    "# u 绑定到 r 的第二个迭代器\n",
    "u = t\n",
    "print(next(u))  # 输出 5\n",
    "print(next(u))  # 输出 6\n",
    "\n",
    "t = iter(range(3, 13))  # 创建迭代器 t\n",
    "v = iter(t)             # 对 t 再次调用 iter()\n"
   ]
  },
  {
   "cell_type": "code",
   "execution_count": null,
   "metadata": {},
   "outputs": [],
   "source": [
    "d = {'one': 1, 'two': 2, 'three': 3}\n",
    "k = iter(d)\n",
    "next(k)\n",
    "# 'one'\n",
    "next(k)\n",
    "# 'three'\n",
    "v = iter(d.values())\n",
    "next(v)\n",
    "# 1\n",
    "next(v)\n",
    "# 3 "
   ]
  }
 ],
 "metadata": {
  "kernelspec": {
   "display_name": "Python 3",
   "language": "python",
   "name": "python3"
  },
  "language_info": {
   "codemirror_mode": {
    "name": "ipython",
    "version": 3
   },
   "file_extension": ".py",
   "mimetype": "text/x-python",
   "name": "python",
   "nbconvert_exporter": "python",
   "pygments_lexer": "ipython3",
   "version": "3.12.0"
  }
 },
 "nbformat": 4,
 "nbformat_minor": 2
}
