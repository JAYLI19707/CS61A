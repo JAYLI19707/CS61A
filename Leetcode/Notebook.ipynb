{
 "cells": [
  {
   "cell_type": "markdown",
   "metadata": {},
   "source": [
    "### 1. 两数之和"
   ]
  },
  {
   "cell_type": "code",
   "execution_count": null,
   "metadata": {},
   "outputs": [],
   "source": [
    "class Solution:\n",
    "    def twoSum(self, nums: List[int], target: int) -> List[int]:\n",
    "            # nums是函数的参数，类型为 List[int]，即整数列表\n",
    "            # target是函数的另一个参数，类型为 int，即整数\n",
    "            # ->List[int] ：-> 是 Python 类型提示的返回值指示符号，\n",
    "\n",
    "        hashtable = dict()\n",
    "        for i, num in enumerate(nums):\n",
    "            if target - num in hashtable:\n",
    "                return [hashtable[target - num], i]# 如果存在，返回这两个数的索引\n",
    "            hashtable[nums[i]] = i# 如果不存在，则将当前数字和它的索引存入哈希表\n",
    "        return [] # 如果没有找到符合条件的两个数，返回空列表"
   ]
  },
  {
   "cell_type": "code",
   "execution_count": null,
   "metadata": {},
   "outputs": [],
   "source": [
    "nums = [10, 20, 30, 40]\n",
    "for i, num in enumerate(nums):\n",
    "    print(f\"Index: {i}, Value: {num}\")"
   ]
  },
  {
   "cell_type": "markdown",
   "metadata": {},
   "source": [
    "### 2.两数相加"
   ]
  },
  {
   "cell_type": "code",
   "execution_count": null,
   "metadata": {},
   "outputs": [],
   "source": [
    "class ListNode:\n",
    "    def __init__(self, val=0, next=None):\n",
    "        self.val = val\n",
    "        self.next = next\n",
    "\n",
    "def addTwoNumbers(l1: ListNode, l2: ListNode) -> ListNode:\n",
    "    dummy = ListNode()  # 创建虚拟头节点\n",
    "    current = dummy\n",
    "    carry = 0  # 初始化进位为0\n",
    "\n",
    "    # 遍历两个链表，直到都为空\n",
    "    while l1 or l2 or carry:\n",
    "        # 取l1和l2的当前节点值，如果为空则取0\n",
    "        val1 = l1.val if l1 else 0\n",
    "        val2 = l2.val if l2 else 0\n",
    "\n",
    "        # 计算当前位的和以及进位\n",
    "        total = val1 + val2 + carry\n",
    "        carry = total // 10  # 计算进位\n",
    "        current.next = ListNode(total % 10)  # 创建新节点保存当前位的值\n",
    "\n",
    "        # 移动到下一个节点\n",
    "        current = current.next\n",
    "        if l1:\n",
    "            l1 = l1.next\n",
    "        if l2:\n",
    "            l2 = l2.next\n",
    "\n",
    "    return dummy.next  # 返回结果链表\n"
   ]
  },
  {
   "cell_type": "markdown",
   "metadata": {},
   "source": [
    "#### 虚拟头节点（dummy head）\n",
    "#### 虚拟头节点 l3 是我们创建的一个额外节点，其val值一般是 0，next指向真正的链表头节点。"
   ]
  },
  {
   "cell_type": "code",
   "execution_count": null,
   "metadata": {},
   "outputs": [],
   "source": [
    "# 定义链表节点类\n",
    "class ListNode:\n",
    "    def __init__(self, val=0, next=None):\n",
    "        self.val = val  # 节点的值\n",
    "        self.next = next  # 指向下一个节点\n",
    "\n",
    "# 创建虚拟头节点\n",
    "dummy = ListNode()  # 值默认为0，next默认为None"
   ]
  },
  {
   "cell_type": "code",
   "execution_count": null,
   "metadata": {},
   "outputs": [],
   "source": [
    "# 定义链表节点类\n",
    "class ListNode:\n",
    "    def __init__(self, val=0, next=None):\n",
    "        self.val = val\n",
    "        self.next = next\n",
    "\n",
    "# 创建虚拟头节点\n",
    "dummy = ListNode()  \n",
    "current = dummy  # 使用一个指针指向当前节点\n",
    "\n",
    "# 构建链表 1 -> 2 -> 3\n",
    "current.next = ListNode(1)  # 添加第一个节点\n",
    "current = current.next  # 移动指针\n",
    "current.next = ListNode(2)  # 添加第二个节点\n",
    "current = current.next\n",
    "current.next = ListNode(3)  # 添加第三个节点\n",
    "\n",
    "# 最终链表是从 dummy.next 开始，即 1 -> 2 -> 3\n"
   ]
  },
  {
   "cell_type": "markdown",
   "metadata": {},
   "source": [
    "### 3.无重复字节的最长子串"
   ]
  },
  {
   "cell_type": "code",
   "execution_count": null,
   "metadata": {},
   "outputs": [],
   "source": [
    "class Solution:\n",
    "    def lengthOfLongestSubstring(self, s: str) -> int:\n",
    "        char_set = set()  # 用于存储当前窗口中的字符\n",
    "        left = 0  # 滑动窗口的左边界\n",
    "        max_len = 0  # 记录最长子串的长度\n",
    "\n",
    "        # 遍历字符串\n",
    "        for right in range(len(s)):\n",
    "            # 如果当前字符已经在集合中\n",
    "            while s[right] in char_set:\n",
    "                # 从集合中移除左指针对应的字符，并移动左指针\n",
    "                char_set.remove(s[left])\n",
    "                left += 1\n",
    "            # 将当前字符添加到集合中\n",
    "            char_set.add(s[right])\n",
    "            # 更新最大子串长度\n",
    "            max_len = max(max_len, right - left + 1)\n",
    "        \n",
    "        return max_len\n"
   ]
  },
  {
   "cell_type": "code",
   "execution_count": null,
   "metadata": {},
   "outputs": [],
   "source": [
    "# set() 是一个无序且不重复的元素集合\n",
    "my_set = set([1, 2, 3, 4])\n",
    "my_set.add(5)  # 添加元素5\n",
    "print(my_set)  # 输出: {1, 2, 3, 4, 5}\n",
    "\n",
    "# dict() 是一种键值对（key-value pair）数据结构，常称为哈希表或映射\n",
    "my_dict = {'a': 1, 'b': 2, 'c': 3}\n",
    "my_dict['d'] = 4  # 添加键值对'd': 4\n",
    "print(my_dict)  # 输出: {'a': 1, 'b': 2, 'c': 3, 'd': 4}\n"
   ]
  }
 ],
 "metadata": {
  "kernelspec": {
   "display_name": "Python 3",
   "language": "python",
   "name": "python3"
  },
  "language_info": {
   "codemirror_mode": {
    "name": "ipython",
    "version": 3
   },
   "file_extension": ".py",
   "mimetype": "text/x-python",
   "name": "python",
   "nbconvert_exporter": "python",
   "pygments_lexer": "ipython3",
   "version": "3.12.0"
  }
 },
 "nbformat": 4,
 "nbformat_minor": 2
}
